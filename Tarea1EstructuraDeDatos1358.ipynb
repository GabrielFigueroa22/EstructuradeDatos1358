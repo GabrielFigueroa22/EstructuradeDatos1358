{
  "nbformat": 4,
  "nbformat_minor": 0,
  "metadata": {
    "colab": {
      "name": "Tarea1EstructuraDeDatos1358",
      "provenance": [],
      "authorship_tag": "ABX9TyPm4hpsIELTpO315SkpswfR",
      "include_colab_link": true
    },
    "kernelspec": {
      "name": "python3",
      "display_name": "Python 3"
    },
    "language_info": {
      "name": "python"
    }
  },
  "cells": [
    {
      "cell_type": "markdown",
      "metadata": {
        "id": "view-in-github",
        "colab_type": "text"
      },
      "source": [
        "<a href=\"https://colab.research.google.com/github/GabrielFigueroa22/EstructuradeDatos1358/blob/main/Tarea1EstructuraDeDatos1358.ipynb\" target=\"_parent\"><img src=\"https://colab.research.google.com/assets/colab-badge.svg\" alt=\"Open In Colab\"/></a>"
      ]
    },
    {
      "cell_type": "markdown",
      "source": [
        "#Inicio:\n",
        "###Se comienza importando el archivo para su lectura"
      ],
      "metadata": {
        "id": "ArcTIo1PtKHj"
      }
    },
    {
      "cell_type": "code",
      "execution_count": 6,
      "metadata": {
        "colab": {
          "resources": {
            "http://localhost:8080/nbextensions/google.colab/files.js": {
              "data": "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",
              "ok": true,
              "headers": [
                [
                  "content-type",
                  "application/javascript"
                ]
              ],
              "status": 200,
              "status_text": ""
            }
          },
          "base_uri": "https://localhost:8080/",
          "height": 301
        },
        "id": "ccKcPs52s8Tg",
        "outputId": "c2fb23b6-7710-497d-a491-b01b851aaf93"
      },
      "outputs": [
        {
          "output_type": "display_data",
          "data": {
            "text/plain": [
              "<IPython.core.display.HTML object>"
            ],
            "text/html": [
              "\n",
              "     <input type=\"file\" id=\"files-2c8ad374-c5c6-4748-b0a2-0d530a47e61b\" name=\"files[]\" multiple disabled\n",
              "        style=\"border:none\" />\n",
              "     <output id=\"result-2c8ad374-c5c6-4748-b0a2-0d530a47e61b\">\n",
              "      Upload widget is only available when the cell has been executed in the\n",
              "      current browser session. Please rerun this cell to enable.\n",
              "      </output>\n",
              "      <script src=\"/nbextensions/google.colab/files.js\"></script> "
            ]
          },
          "metadata": {}
        },
        {
          "output_type": "stream",
          "name": "stdout",
          "text": [
            "Saving presenciaredesV1.csv to presenciaredesV1.csv\n"
          ]
        },
        {
          "output_type": "execute_result",
          "data": {
            "text/plain": [
              "{'presenciaredesV1.csv': b'\\xef\\xbb\\xbfRED SOCIAL,CONCEPTO,A\\xc3\\x91O,ENERO,FEBRERO,MARZO,ABRIL,MAYO,JUNIO,JULIO,AGOSTO,SEPTIEMBRE,OCTUBRE,NOVIEMBRE,DICIEMBRE,\\r\\nFACEBOOK,SEGUIDORES,2020,152107,156957,160595,165180,170488,178413,0,0,0,0,0,0,\\r\\nFACEBOOK,CRECIMIENTO (SEGUIDORES),2020,660,4850,3638,4585,5308,7925,0,0,0,0,0,0,\\r\\nFACEBOOK,PORCENTAJE DE CRECIMIENTO ,2020,0.43%,3%,2%,3%,3%,4%,0%,0%,0%,0%,0%,0%,\\r\\nFACEBOOK,PUBLICACIONES ,2020,45,53,52,106,98,64,0,0,0,0,0,0,\\r\\nFACEBOOK,ME GUSTA EN PUBLICACIONES ,2020,8771,9002,13556,15022,38953,16487,0,0,0,0,0,0,\\r\\nFACEBOOK,PUBLICACIONES COMPARTIDAS ,2020,2338,2680,2802,4214,8415,4240,0,0,0,0,0,0,\\r\\nFACEBOOK,COMENTARIOS (USUARIOS),2020,902,601,775,1100,2614,1268,0,0,0,0,0,0,\\r\\nTWITTER,SEGUIDORES (FOLLOWERS),2020,62404,63232,64149,65410,66355,67496,0,0,0,0,0,0,\\r\\nTWITTER,CRECIMIENTO DE FOLLOWERS,2020,863,828,917,1261,945,1141,0,0,0,0,0,0,\\r\\nTWITTER,PORCENTAJE DE CRECIMIENTO,2020,1%,1%,1%,2%,1%,1%,0%,0%,0%,0%,0%,0%,\\r\\nTWITTER,PUBLICACIONES ,2020,77,84,90,135,127,82,0,0,0,0,0,0,\\r\\nTWITTER,RETUITS,2020,563,601,748,847,1136,780,0,0,0,0,0,0,\\r\\nTWITTER,ME GUSTA,2020,1224,1225,1601,1994,2667,2069,0,0,0,0,0,0,\\r\\nTWITTER,IMPACTOS,2020,197275,220118,270310,311931,409684,284147,0,0,0,0,0,0,\\r\\nYOUTUBE,VIDEOS,2020,1,2,5,4,4,4,0,0,0,3,5,0,\\r\\nYOUTUBE,VISUALIZACIONES,2020,12226,15605,19602,19452,21805,17344,0,0,0,0,0,0,\\r\\nYOUTUBE,COMENTARIOS,2020,0,0,2,0,6,0,0,0,0,1,3,0,\\r\\nYOUTUBE,ME GUSTA,2020,4,15,15,8,30,33,0,0,0,8,23,0,\\r\\n'}"
            ]
          },
          "metadata": {},
          "execution_count": 6
        }
      ],
      "source": [
        "from google.colab import files \n",
        "files.upload()"
      ]
    },
    {
      "cell_type": "markdown",
      "source": [
        "###Aqui se reacomoda la informacion para una mejor lectura"
      ],
      "metadata": {
        "id": "-HYo61DXtiJT"
      }
    },
    {
      "cell_type": "code",
      "source": [
        "import pandas as pd\n",
        "datosdered = pd.read_csv('presenciaredesV1.csv',header=0)\n",
        "print(datosdered)"
      ],
      "metadata": {
        "colab": {
          "base_uri": "https://localhost:8080/"
        },
        "id": "p4qgxS40tizS",
        "outputId": "175f28d4-7342-4eca-e5c0-1c8297772db9"
      },
      "execution_count": 7,
      "outputs": [
        {
          "output_type": "stream",
          "name": "stdout",
          "text": [
            "   RED SOCIAL                    CONCEPTO   AÑO   ENERO FEBRERO   MARZO  \\\n",
            "0    FACEBOOK                  SEGUIDORES  2020  152107  156957  160595   \n",
            "1    FACEBOOK    CRECIMIENTO (SEGUIDORES)  2020     660    4850    3638   \n",
            "2    FACEBOOK  PORCENTAJE DE CRECIMIENTO   2020   0.43%      3%      2%   \n",
            "3    FACEBOOK              PUBLICACIONES   2020      45      53      52   \n",
            "4    FACEBOOK  ME GUSTA EN PUBLICACIONES   2020    8771    9002   13556   \n",
            "5    FACEBOOK  PUBLICACIONES COMPARTIDAS   2020    2338    2680    2802   \n",
            "6    FACEBOOK      COMENTARIOS (USUARIOS)  2020     902     601     775   \n",
            "7     TWITTER      SEGUIDORES (FOLLOWERS)  2020   62404   63232   64149   \n",
            "8     TWITTER    CRECIMIENTO DE FOLLOWERS  2020     863     828     917   \n",
            "9     TWITTER   PORCENTAJE DE CRECIMIENTO  2020      1%      1%      1%   \n",
            "10    TWITTER              PUBLICACIONES   2020      77      84      90   \n",
            "11    TWITTER                     RETUITS  2020     563     601     748   \n",
            "12    TWITTER                    ME GUSTA  2020    1224    1225    1601   \n",
            "13    TWITTER                    IMPACTOS  2020  197275  220118  270310   \n",
            "14    YOUTUBE                      VIDEOS  2020       1       2       5   \n",
            "15    YOUTUBE             VISUALIZACIONES  2020   12226   15605   19602   \n",
            "16    YOUTUBE                 COMENTARIOS  2020       0       0       2   \n",
            "17    YOUTUBE                    ME GUSTA  2020       4      15      15   \n",
            "\n",
            "     ABRIL    MAYO   JUNIO JULIO AGOSTO SEPTIEMBRE OCTUBRE NOVIEMBRE  \\\n",
            "0   165180  170488  178413     0      0          0       0         0   \n",
            "1     4585    5308    7925     0      0          0       0         0   \n",
            "2       3%      3%      4%    0%     0%         0%      0%        0%   \n",
            "3      106      98      64     0      0          0       0         0   \n",
            "4    15022   38953   16487     0      0          0       0         0   \n",
            "5     4214    8415    4240     0      0          0       0         0   \n",
            "6     1100    2614    1268     0      0          0       0         0   \n",
            "7    65410   66355   67496     0      0          0       0         0   \n",
            "8     1261     945    1141     0      0          0       0         0   \n",
            "9       2%      1%      1%    0%     0%         0%      0%        0%   \n",
            "10     135     127      82     0      0          0       0         0   \n",
            "11     847    1136     780     0      0          0       0         0   \n",
            "12    1994    2667    2069     0      0          0       0         0   \n",
            "13  311931  409684  284147     0      0          0       0         0   \n",
            "14       4       4       4     0      0          0       3         5   \n",
            "15   19452   21805   17344     0      0          0       0         0   \n",
            "16       0       6       0     0      0          0       1         3   \n",
            "17       8      30      33     0      0          0       8        23   \n",
            "\n",
            "   DICIEMBRE  Unnamed: 15  \n",
            "0          0          NaN  \n",
            "1          0          NaN  \n",
            "2         0%          NaN  \n",
            "3          0          NaN  \n",
            "4          0          NaN  \n",
            "5          0          NaN  \n",
            "6          0          NaN  \n",
            "7          0          NaN  \n",
            "8          0          NaN  \n",
            "9         0%          NaN  \n",
            "10         0          NaN  \n",
            "11         0          NaN  \n",
            "12         0          NaN  \n",
            "13         0          NaN  \n",
            "14         0          NaN  \n",
            "15         0          NaN  \n",
            "16         0          NaN  \n",
            "17         0          NaN  \n"
          ]
        }
      ]
    },
    {
      "cell_type": "markdown",
      "source": [
        "#Diferencia de Followers en Twitter en el periodo de Enero - Junio\n",
        "###Tomamos la informacion requerida para separarla y aplicarla"
      ],
      "metadata": {
        "id": "j6EL7CNLt4RL"
      }
    },
    {
      "cell_type": "code",
      "source": [
        "print(datosdered.loc[7:7])"
      ],
      "metadata": {
        "colab": {
          "base_uri": "https://localhost:8080/"
        },
        "id": "aNdCNxKYtscQ",
        "outputId": "a31897e8-f4a5-40b6-c80e-81c3cbcfc018"
      },
      "execution_count": null,
      "outputs": [
        {
          "output_type": "stream",
          "name": "stdout",
          "text": [
            "  RED SOCIAL                CONCEPTO   AÑO  ENERO FEBRERO  MARZO  ABRIL  \\\n",
            "7    TWITTER  SEGUIDORES (FOLLOWERS)  2020  62404   63232  64149  65410   \n",
            "\n",
            "    MAYO  JUNIO JULIO AGOSTO SEPTIEMBRE OCTUBRE NOVIEMBRE DICIEMBRE  \\\n",
            "7  66355  67496     0      0          0       0         0         0   \n",
            "\n",
            "   Unnamed: 15  \n",
            "7          NaN  \n"
          ]
        }
      ]
    },
    {
      "cell_type": "code",
      "source": [
        "###Aqui es donde se hace la cuenta"
      ],
      "metadata": {
        "id": "qCk-yZDFuVO6"
      },
      "execution_count": null,
      "outputs": []
    },
    {
      "cell_type": "code",
      "source": [
        "enero=float(datosdered.iloc[7,5])\n",
        "junio=float(datosdered.iloc[7,8])\n",
        "print(enero)\n",
        "print(junio)\n",
        "print('Diferencia en cantidad de followers', junio - enero)"
      ],
      "metadata": {
        "colab": {
          "base_uri": "https://localhost:8080/"
        },
        "id": "uUu3eC2Ity34",
        "outputId": "8fc7740d-43b1-427a-de43-436e38d601b3"
      },
      "execution_count": 8,
      "outputs": [
        {
          "output_type": "stream",
          "name": "stdout",
          "text": [
            "64149.0\n",
            "67496.0\n",
            "Diferencia en cantidad de followers 3347.0\n"
          ]
        }
      ]
    },
    {
      "cell_type": "markdown",
      "source": [
        "#Diferencia de vistas en la plataforma de YouTube"
      ],
      "metadata": {
        "id": "l2x6uO5bugLT"
      }
    },
    {
      "cell_type": "code",
      "source": [
        "print(datosdered.loc[15:15])"
      ],
      "metadata": {
        "colab": {
          "base_uri": "https://localhost:8080/"
        },
        "id": "IuVl50uauhqq",
        "outputId": "ab0ff111-df3b-4f16-f7e7-5be7bbbedb68"
      },
      "execution_count": 10,
      "outputs": [
        {
          "output_type": "stream",
          "name": "stdout",
          "text": [
            "   RED SOCIAL         CONCEPTO   AÑO  ENERO FEBRERO  MARZO  ABRIL   MAYO  \\\n",
            "15    YOUTUBE  VISUALIZACIONES  2020  12226   15605  19602  19452  21805   \n",
            "\n",
            "    JUNIO JULIO AGOSTO SEPTIEMBRE OCTUBRE NOVIEMBRE DICIEMBRE  Unnamed: 15  \n",
            "15  17344     0      0          0       0         0         0          NaN  \n"
          ]
        }
      ]
    },
    {
      "cell_type": "markdown",
      "source": [
        "#Crecimiento de Followers en Twitter"
      ],
      "metadata": {
        "id": "M8V1ySsfvEpz"
      }
    },
    {
      "cell_type": "code",
      "source": [
        "M1E = float(datosdered.iloc[8,3])\n",
        "M2F = float(datosdered.iloc[8,4])\n",
        "M3M = float(datosdered.iloc[8,5])\n",
        "M4A = float(datosdered.iloc[8,6])\n",
        "M5M = float(datosdered.iloc[8,7])\n",
        "M6J = float(datosdered.iloc[8,8])\n",
        "print(datosdered.loc[8:8])\n",
        "print(\" \")\n",
        "print(\"Crecimiento Followers en Twitter en promedio: \",(M1E + M2F + M3M + M4A + M5M + M6J)/6)"
      ],
      "metadata": {
        "colab": {
          "base_uri": "https://localhost:8080/"
        },
        "id": "1r3qs26Kvi9q",
        "outputId": "d5a92781-6a79-4d3b-967d-910a730ec8ca"
      },
      "execution_count": 17,
      "outputs": [
        {
          "output_type": "stream",
          "name": "stdout",
          "text": [
            "  RED SOCIAL                  CONCEPTO   AÑO ENERO FEBRERO MARZO ABRIL MAYO  \\\n",
            "8    TWITTER  CRECIMIENTO DE FOLLOWERS  2020   863     828   917  1261  945   \n",
            "\n",
            "  JUNIO JULIO AGOSTO SEPTIEMBRE OCTUBRE NOVIEMBRE DICIEMBRE  Unnamed: 15  \n",
            "8  1141     0      0          0       0         0         0          NaN  \n",
            " \n",
            "Crecimiento Followers en Twitter en promedio:  992.5\n"
          ]
        }
      ]
    },
    {
      "cell_type": "markdown",
      "source": [
        "#Crecimiento de Followers en Facebook"
      ],
      "metadata": {
        "id": "m_zp7k8TvPGb"
      }
    },
    {
      "cell_type": "code",
      "source": [
        "M1E = float(datosdered.iloc[1,3])\n",
        "M2F = float(datosdered.iloc[1,4])\n",
        "M3M = float(datosdered.iloc[1,5])\n",
        "M4A = float(datosdered.iloc[1,6])\n",
        "M5M = float(datosdered.iloc[1,7])\n",
        "M6J = float(datosdered.iloc[1,8])\n",
        "print(datosdered.loc[1:8])\n",
        "print(\" \")\n",
        "print(\"Crecimiento de Followers en Facebook en promedio: \",(M1E + M2F + M3M + M4A + M5M + M6J)/6)"
      ],
      "metadata": {
        "colab": {
          "base_uri": "https://localhost:8080/"
        },
        "id": "hBR6AnygwNcT",
        "outputId": "29c54c6b-9cb0-43e7-ab21-7b8d1a42bdc7"
      },
      "execution_count": 18,
      "outputs": [
        {
          "output_type": "stream",
          "name": "stdout",
          "text": [
            "  RED SOCIAL                    CONCEPTO   AÑO  ENERO FEBRERO  MARZO  ABRIL  \\\n",
            "1   FACEBOOK    CRECIMIENTO (SEGUIDORES)  2020    660    4850   3638   4585   \n",
            "2   FACEBOOK  PORCENTAJE DE CRECIMIENTO   2020  0.43%      3%     2%     3%   \n",
            "3   FACEBOOK              PUBLICACIONES   2020     45      53     52    106   \n",
            "4   FACEBOOK  ME GUSTA EN PUBLICACIONES   2020   8771    9002  13556  15022   \n",
            "5   FACEBOOK  PUBLICACIONES COMPARTIDAS   2020   2338    2680   2802   4214   \n",
            "6   FACEBOOK      COMENTARIOS (USUARIOS)  2020    902     601    775   1100   \n",
            "7    TWITTER      SEGUIDORES (FOLLOWERS)  2020  62404   63232  64149  65410   \n",
            "8    TWITTER    CRECIMIENTO DE FOLLOWERS  2020    863     828    917   1261   \n",
            "\n",
            "    MAYO  JUNIO JULIO AGOSTO SEPTIEMBRE OCTUBRE NOVIEMBRE DICIEMBRE  \\\n",
            "1   5308   7925     0      0          0       0         0         0   \n",
            "2     3%     4%    0%     0%         0%      0%        0%        0%   \n",
            "3     98     64     0      0          0       0         0         0   \n",
            "4  38953  16487     0      0          0       0         0         0   \n",
            "5   8415   4240     0      0          0       0         0         0   \n",
            "6   2614   1268     0      0          0       0         0         0   \n",
            "7  66355  67496     0      0          0       0         0         0   \n",
            "8    945   1141     0      0          0       0         0         0   \n",
            "\n",
            "   Unnamed: 15  \n",
            "1          NaN  \n",
            "2          NaN  \n",
            "3          NaN  \n",
            "4          NaN  \n",
            "5          NaN  \n",
            "6          NaN  \n",
            "7          NaN  \n",
            "8          NaN  \n",
            " \n",
            "Crecimiento de Followers en Facebook en promedio:  4494.333333333333\n"
          ]
        }
      ]
    }
  ]
}